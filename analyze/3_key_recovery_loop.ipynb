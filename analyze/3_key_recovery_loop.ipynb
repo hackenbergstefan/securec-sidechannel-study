{
 "cells": [
  {
   "cell_type": "markdown",
   "metadata": {},
   "source": [
    "# Key recovery for loop randomization\n",
    "\n",
    "This notebook focuses on the task of key recovery using different side-channel analysis methods.\n",
    "All methods focus on _first order leakage_ as the loop randomization (i.e. hiding) does not require higher order analysis.\n",
    "\n",
    "## Methods\n",
    "\n",
    "A good overview and explanation of existing side-channel analysis methods can be found in [Power Side-Channel Attack Analysis: A Review of 20 Years of Study for the Layman](https://www.mdpi.com/2410-387X/4/2/15).\n",
    "\n",
    "### CPA\n",
    "\n",
    "A very common method is CPA.\n",
    "Is uses the [Pearson Correlation Coefficient](https://en.wikipedia.org/wiki/Pearson_correlation_coefficient) to reveal a _linear dependency_ between a predicted leakage and the actual traces.\n",
    "\n",
    "The predictive value is free to choose: An entire key byte, it's hamming weight, a single bit, ...\n",
    "\n",
    "## T-Test\n",
    "\n",
    "The concept of side-channel analysis using [Welch's T-Test](https://en.wikipedia.org/wiki/Welch%27s_t-test) is to divide the recorded traces into two groups by a given _selection function_. The t-statistic gives a (unit-less) number which is high when the two sets \"are different\".\n",
    "\n",
    "In classical DPA (e.g. [Power Side-Channel Attack Analysis: A Review of 20 Years of Study for the Layman](https://www.mdpi.com/2410-387X/4/2/15) 4.1) a _partition function_ is used to distinguish a set of traces into two distinct partitions.\n",
    "Primarily the partition function focuses on a single bit of a computed value inside a cryptographic algorithm where a known part (mostly plaintext or ciphertext) collides with the secret key.\n",
    "By partitioning with different key hypothesis one can \"guess\" the correct one: It is the partition where the two groups are most different from each other.\n",
    "\n",
    "Kocher et al. proposed to use the \"DoM (Difference of Means)\" to compute a \"difference\" between two partitions.\n",
    "The T-Test in contrast provides a better success rate [Empirical Comparison of Side Channel Analysis Distinguishers on DES in Hardware](https://www.esat.kuleuven.be/cosic/publications/article-1250.pdf).\n",
    "\n",
    "\n",
    "Recovering the key from an AES SBOX lookup the following partition function can be used:\n",
    "\n",
    "```python\n",
    "sbox(plaintext[i] ^ guess) & (1 << b)\n",
    "```\n",
    "\n",
    "Considering the `i`-th byte and the `b`-th bit the total amount of partitions is $16 \\cdot 8 \\cdot 256 = 32768$.\n",
    "\n",
    "## Signal-to-Noise Ratio (SNR)\n",
    "\n",
    "> Signal-to-noise ratios are commonly used in electrical engineering and signal processing. An SNR is tbe ratio between tbe signal and tbe noise component of a measurement. The general definition of an SNR in a digital environment is given in (4.9).\n",
    "> $$ SNR = \\frac{Var(Signal)}{Var(Noise)} $$\n",
    "\n",
    "(Mangard S., Oswald E., Popp T. Power Analysis Attacks.. Revealing the Secrets of Smart Cards (Advances in Information Security) (2007) 4.3.2)\n",
    "\n",
    "For precise computation refer to [Advanced side-channel Measurement and Testing](https://hss-opus.ub.ruhr-uni-bochum.de/opus4/frontdoor/deliver/index/docId/8024/file/diss.pdf) (Formula 5.5).\n",
    "\n",
    "$$ \\mathrm{SNR} = \\frac{\n",
    "    \\mathrm{Var}_{\\forall k \\in \\mathcal S}(\\mathbf{\\bar x}_k)\n",
    "}{\n",
    "    \\mathrm{E}_{\\forall k \\in \\mathcal S}\\big(\\mathrm{Var}_{\\forall i}(\\mathbf{x}_{k,i})\\big)\n",
    "} $$\n",
    "\n",
    "Similar to T-Test we can partition the set of traces into multiple subsets.\n",
    "But, in contrast we don't have to focus on a single bit.\n",
    "The entire byte or it's Hamming Weight can be considered.\n",
    "\n",
    "\n",
    "## Comparison\n",
    "\n",
    "A widely used criteria for comparing algorithms for key recovery is _ranking_.\n",
    "Obviously, a method is \"better\" then another if the key can be revealed requiring less traces.\n",
    "Hence, as we know the correct key (byte) a priori, we can check at which position in the ranking is occurs.\n",
    "\n",
    "### Fictive example\n",
    "\n",
    "We are guessing 256 possible key bytes. \n",
    "After including 10 traces into the first key recovery algorithm we see the correct key is only at position 200. \n",
    "For algorithm two it is a position 150.\n",
    "This does not (yet) mean necessarily that algorithm one is better than two!\n",
    "\n",
    "But, after 1000 traces we see that the correct key is also the best guess of algorithm one but only the 3rd best guess of algorithm two.\n",
    "We realize that algorithm one is predominant to algorithm two."
   ]
  },
  {
   "cell_type": "markdown",
   "metadata": {},
   "source": [
    "## CW Plain Fixedkey\n",
    "\n",
    "First of all we throw the weakest implementation into the ring and compare the results."
   ]
  }
 ],
 "metadata": {
  "interpreter": {
   "hash": "6afcaecaf348fcbb74d1ab98c9a45ba1d5ad27e247aca0adeff4ad9ffbd0d267"
  },
  "kernelspec": {
   "display_name": "Python 3.10.2 ('.env': venv)",
   "language": "python",
   "name": "python3"
  },
  "language_info": {
   "codemirror_mode": {
    "name": "ipython",
    "version": 3
   },
   "file_extension": ".py",
   "mimetype": "text/x-python",
   "name": "python",
   "nbconvert_exporter": "python",
   "pygments_lexer": "ipython3",
   "version": "3.10.2"
  },
  "orig_nbformat": 4
 },
 "nbformat": 4,
 "nbformat_minor": 2
}
